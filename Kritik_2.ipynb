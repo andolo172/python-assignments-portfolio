{
 "cells": [
  {
   "cell_type": "code",
   "execution_count": 1,
   "id": "19827d99-b8c9-4d30-9d4c-adc712f1fc2d",
   "metadata": {},
   "outputs": [
    {
     "name": "stdout",
     "output_type": "stream",
     "text": [
      "Root of function in [0.1, 1] = 0.2698741376\n",
      "Root of function in [0, 2] = 0.0000000000\n",
      "Root of function in [3, 4] = 3.1415926536\n",
      "No root found for function in [5, 7]\n"
     ]
    }
   ],
   "source": [
    "import numpy as np\n",
    "\n",
    "def roots(f, a, b, tol = 1e-15):\n",
    "    \n",
    "    if np.sign(f(a)) == np.sign(f(b)):\n",
    "        return None\n",
    "    \n",
    "    for i in range(1000):\n",
    "       \n",
    "        mid = (a + b)/2\n",
    "        \n",
    "        if np.abs(f(mid)) < tol:\n",
    "            return mid\n",
    "        elif np.sign(f(a)) == np.sign(f(mid)):\n",
    "            return roots(f, mid, b, tol)\n",
    "        else:\n",
    "            return roots(f, a, mid, tol)\n",
    "\n",
    "test_cases = [\n",
    "    (lambda x: np.exp(x) + np.log(x), 0.1, 1),\n",
    "    (lambda x: np.arctan(x) - x**2, 0, 2),\n",
    "    (lambda x: np.sin(x) / np.log(x), 3, 4),\n",
    "    (lambda x: np.log(np.cos(x)), 5, 7)\n",
    "]\n",
    "\n",
    "for i, (f, a, b) in enumerate(test_cases):\n",
    "   \n",
    "    r1 = roots(f, a, b)\n",
    "   \n",
    "    if r1 is not None:\n",
    "        print(f\"Root of function in [{a}, {b}] = {r1:.10f}\")\n",
    "    else:\n",
    "        print(f\"No root found for function in [{a}, {b}]\")"
   ]
  },
  {
   "cell_type": "code",
   "execution_count": null,
   "id": "57c39974-64ba-49f0-a8f4-cd528fc95b74",
   "metadata": {},
   "outputs": [],
   "source": []
  }
 ],
 "metadata": {
  "kernelspec": {
   "display_name": "Python 3 (ipykernel)",
   "language": "python",
   "name": "python3"
  },
  "language_info": {
   "codemirror_mode": {
    "name": "ipython",
    "version": 3
   },
   "file_extension": ".py",
   "mimetype": "text/x-python",
   "name": "python",
   "nbconvert_exporter": "python",
   "pygments_lexer": "ipython3",
   "version": "3.11.9"
  }
 },
 "nbformat": 4,
 "nbformat_minor": 5
}
