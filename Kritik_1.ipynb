{
 "cells": [
  {
   "cell_type": "code",
   "execution_count": 1,
   "id": "c8cfa346-c6d0-4fa3-b210-f941b9aeb3c7",
   "metadata": {},
   "outputs": [
    {
     "name": "stdout",
     "output_type": "stream",
     "text": [
      "arctan(-1) = Error!\n",
      "arctan(0) = (0.0, 1, 0.0)\n",
      "arctan(0.25) = (0.24498697916666665, 3, 8.719308035714285e-06)\n",
      "arctan(0.5) = (0.46368427579365074, 5, 4.438920454545455e-05)\n",
      "arctan(0.75) = (0.6435394700943785, 11, 5.816761029294689e-05)\n",
      "arctan(1) = (0.7853481633979478, 5000, 9.999000099990002e-05)\n"
     ]
    }
   ],
   "source": [
    "def arctan(x):\n",
    "    if x < 0 or x > 1:\n",
    "        return \"Error!\"\n",
    "\n",
    "    approx = 0\n",
    "    error = float('inf')\n",
    "    n = 0\n",
    "\n",
    "    while error > 0.0001:\n",
    "        term = ((-1) ** n) * (x ** (2 * n + 1)) / (2 * n + 1)\n",
    "        approx += term\n",
    "        error = (x ** (2 * n + 3)) / (2 * n + 3)\n",
    "        n += 1\n",
    "\n",
    "    return approx, n, error\n",
    "\n",
    "test = [-1, 0, 0.25, 0.5, 0.75, 1]\n",
    "for i in test:\n",
    "    result = arctan(i)\n",
    "    print(f\"arctan({i}) = {result}\")\n"
   ]
  }
 ],
 "metadata": {
  "kernelspec": {
   "display_name": "Python 3 (ipykernel)",
   "language": "python",
   "name": "python3"
  },
  "language_info": {
   "codemirror_mode": {
    "name": "ipython",
    "version": 3
   },
   "file_extension": ".py",
   "mimetype": "text/x-python",
   "name": "python",
   "nbconvert_exporter": "python",
   "pygments_lexer": "ipython3",
   "version": "3.12.8"
  }
 },
 "nbformat": 4,
 "nbformat_minor": 5
}
