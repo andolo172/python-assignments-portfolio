{
 "cells": [
  {
   "cell_type": "code",
   "execution_count": 2,
   "id": "d50a89d0-714a-4132-a13d-5a77a34a9969",
   "metadata": {},
   "outputs": [
    {
     "name": "stdout",
     "output_type": "stream",
     "text": [
      "Test case 1: (0.9999, 1.0001)\n",
      "Test case 2: (0.7852981633974483, 0.7854981633974483)\n",
      "Test case 3: (-0.0001, 0.0001)\n"
     ]
    }
   ],
   "source": [
    "import numpy as np\n",
    "\n",
    "def central_difference (f, c, delta=1e-8):\n",
    "    return (f(c + delta) - f(c - delta)) / (2*delta)\n",
    "\n",
    "def linear_approximation (f, f_prime_c, c, x):\n",
    "    return f(c) + f_prime_c*(x-c)\n",
    "\n",
    "def find_x1_x2 (f, c, E):\n",
    "    f_prime_c = central_difference (f, c)\n",
    "    L = lambda x: linear_approximation (f, f_prime_c, c, x)\n",
    "    maximum = 10000\n",
    "    repeat = 0\n",
    "\n",
    "    x1 = c - 1e-4\n",
    "\n",
    "    while abs(f(x1) - L(x1)) > E and repeat < maximum:\n",
    "        x1 += 1e-4\n",
    "        repeat += 1\n",
    "    repeat = 0\n",
    "\n",
    "    x2 = c + 1e-4\n",
    "\n",
    "    while abs(f(x2) - L(x2)) > E and repeat < maximum:\n",
    "        x1 -= 1e-4\n",
    "        repeat += 1\n",
    "\n",
    "    return x1, x2\n",
    "\n",
    "f1 = lambda x: x**2\n",
    "f2 = lambda x: np.sin(x)\n",
    "f3 = lambda x: np.exp(x)\n",
    "\n",
    "print(\"Test case 1:\", find_x1_x2 (f1, c = 1, E = 0.1))\n",
    "print(\"Test case 2:\", find_x1_x2 (f2, c = np.pi/4, E = 0.05))\n",
    "print(\"Test case 3:\", find_x1_x2 (f3, c = 0, E = 0.01))"
   ]
  },
  {
   "cell_type": "code",
   "execution_count": null,
   "id": "facbd323-83e2-48bd-a6d7-be05ca67d661",
   "metadata": {},
   "outputs": [],
   "source": []
  }
 ],
 "metadata": {
  "kernelspec": {
   "display_name": "Python 3 (ipykernel)",
   "language": "python",
   "name": "python3"
  },
  "language_info": {
   "codemirror_mode": {
    "name": "ipython",
    "version": 3
   },
   "file_extension": ".py",
   "mimetype": "text/x-python",
   "name": "python",
   "nbconvert_exporter": "python",
   "pygments_lexer": "ipython3",
   "version": "3.12.8"
  }
 },
 "nbformat": 4,
 "nbformat_minor": 5
}
